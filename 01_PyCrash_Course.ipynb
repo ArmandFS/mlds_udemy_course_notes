{
 "cells": [
  {
   "cell_type": "markdown",
   "metadata": {},
   "source": [
    "### 1 - Python Crash Course\n",
    "##### Quick and Easy Refresh of the Crash Course"
   ]
  },
  {
   "cell_type": "code",
   "execution_count": 16,
   "metadata": {},
   "outputs": [],
   "source": [
    "import pandas as pd\n",
    "import numpy as np"
   ]
  },
  {
   "cell_type": "markdown",
   "metadata": {},
   "source": [
    "#### Basic Math"
   ]
  },
  {
   "cell_type": "code",
   "execution_count": 17,
   "metadata": {},
   "outputs": [
    {
     "name": "stdout",
     "output_type": "stream",
     "text": [
      "3\n",
      "2\n",
      "1.0\n",
      "16\n",
      "1\n"
     ]
    }
   ],
   "source": [
    "print(1*3)\n",
    "print(1+1)\n",
    "print(1/1)\n",
    "print(2**4)\n",
    "print(5%2)"
   ]
  },
  {
   "cell_type": "markdown",
   "metadata": {},
   "source": [
    "#### Basic Variables"
   ]
  },
  {
   "cell_type": "code",
   "execution_count": 18,
   "metadata": {},
   "outputs": [
    {
     "name": "stdout",
     "output_type": "stream",
     "text": [
      "151\n",
      "-149\n"
     ]
    }
   ],
   "source": [
    "x = 1\n",
    "y = 150\n",
    "print(x+y)\n",
    "print(x-y)"
   ]
  },
  {
   "cell_type": "markdown",
   "metadata": {},
   "source": [
    "#### Strings"
   ]
  },
  {
   "cell_type": "code",
   "execution_count": 19,
   "metadata": {},
   "outputs": [
    {
     "name": "stdout",
     "output_type": "stream",
     "text": [
      "double\n",
      "string\n",
      "test yes\n"
     ]
    }
   ],
   "source": [
    "ex_string = \"string\"\n",
    "double = \"double\"\n",
    "test = \"test\" + \" \" + \"yes\"\n",
    "\n",
    "print(double)\n",
    "print(ex_string)\n",
    "print(test)"
   ]
  },
  {
   "cell_type": "code",
   "execution_count": 20,
   "metadata": {},
   "outputs": [
    {
     "name": "stdout",
     "output_type": "stream",
     "text": [
      "My name is Armand, my number is 08131875072\n"
     ]
    }
   ],
   "source": [
    "print(\"My name is {}, my number is {}\" .format('Armand',\"08131875072\"))"
   ]
  },
  {
   "cell_type": "markdown",
   "metadata": {},
   "source": [
    "#### Lists and Arrays"
   ]
  },
  {
   "cell_type": "code",
   "execution_count": 24,
   "metadata": {},
   "outputs": [
    {
     "name": "stdout",
     "output_type": "stream",
     "text": [
      "[1, 2, 3]\n",
      "['a', 'b', 'c']\n",
      "[[1 2 3]\n",
      " [4 5 6]]\n",
      "c\n"
     ]
    }
   ],
   "source": [
    "first_array = [1,2,3]\n",
    "string_array = ['a', 'b', 'c']\n",
    "matrix_array = np.array([[1, 2, 3], [4, 5, 6]])\n",
    "\n",
    "\n",
    "print(first_array)\n",
    "print(string_array)\n",
    "print(matrix_array)\n",
    "#indexing\n",
    "print(string_array[-1])"
   ]
  },
  {
   "cell_type": "code",
   "execution_count": 39,
   "metadata": {},
   "outputs": [
    {
     "name": "stdout",
     "output_type": "stream",
     "text": [
      "['a', 'b', 'c', 'd', 'd', 'd', 'd', 'd', 'd', 'd', 'd', 'd']\n",
      "[1, 2, [100, 200]]\n",
      "[100, 200]\n"
     ]
    }
   ],
   "source": [
    "print(string_array)\n",
    "#list inside of a list\n",
    "mylist = [1,2, [100,200]]\n",
    "\n",
    "print(mylist)\n",
    "print(mylist[2])"
   ]
  },
  {
   "cell_type": "markdown",
   "metadata": {},
   "source": [
    "#### Dictionaries"
   ]
  },
  {
   "cell_type": "code",
   "execution_count": 41,
   "metadata": {},
   "outputs": [
    {
     "name": "stdout",
     "output_type": "stream",
     "text": [
      "{'key1': 'yes', 'key2': 'no', 'key3': 'maybe'}\n"
     ]
    },
    {
     "data": {
      "text/plain": [
       "'maybe'"
      ]
     },
     "execution_count": 41,
     "metadata": {},
     "output_type": "execute_result"
    }
   ],
   "source": [
    "dict1 = {\n",
    "    'key1' :'yes',\n",
    "    'key2' : 'no',\n",
    "    'key3' : 'maybe'    \n",
    "}\n",
    "print(dict1)\n",
    "dict1['key3']"
   ]
  },
  {
   "cell_type": "markdown",
   "metadata": {},
   "source": [
    "#### Truthy & Falsey Values"
   ]
  },
  {
   "cell_type": "code",
   "execution_count": 42,
   "metadata": {},
   "outputs": [
    {
     "name": "stdout",
     "output_type": "stream",
     "text": [
      "True\n"
     ]
    }
   ],
   "source": [
    "True\n",
    "False\n",
    "print(True)"
   ]
  },
  {
   "cell_type": "markdown",
   "metadata": {},
   "source": [
    "#### Tuples & Sets"
   ]
  },
  {
   "cell_type": "code",
   "execution_count": 45,
   "metadata": {},
   "outputs": [
    {
     "name": "stdout",
     "output_type": "stream",
     "text": [
      "(1, 2, 3)\n",
      "{1, 2, 3, 4, 5}\n"
     ]
    }
   ],
   "source": [
    "#Tuples are immutable,, values cannot be changed\n",
    "tuple1 = (1, 2 ,3)\n",
    "print(tuple1)\n",
    "\n",
    "#sets are unordered collection of unique elements\n",
    "set1 = {1, 2 ,3, 4, 5}\n",
    "print(set1)"
   ]
  },
  {
   "cell_type": "markdown",
   "metadata": {},
   "source": [
    "#### Boolean and Logic Operator Values"
   ]
  },
  {
   "cell_type": "code",
   "execution_count": 5,
   "metadata": {},
   "outputs": [
    {
     "name": "stdout",
     "output_type": "stream",
     "text": [
      "True\n",
      "False\n",
      "False\n",
      "True\n"
     ]
    }
   ],
   "source": [
    "#true or false equality values\n",
    "x1 = 'a' == 'a'\n",
    "y1 = (1 < 0)\n",
    "y2 = ('1' == 1)\n",
    "\n",
    "#operators\n",
    "z1 = (1 == 1) and ('a' == 'a') and (3==3)\n",
    "\n",
    "print(x)\n",
    "print(y1)\n",
    "print(y2)\n",
    "print(z1)"
   ]
  },
  {
   "cell_type": "markdown",
   "metadata": {},
   "source": [
    "#### Basic If, Elif, Statements"
   ]
  },
  {
   "cell_type": "code",
   "execution_count": 7,
   "metadata": {},
   "outputs": [
    {
     "name": "stdout",
     "output_type": "stream",
     "text": [
      "that's right\n"
     ]
    }
   ],
   "source": [
    "if 1 == 2:\n",
    "    print(\"that's wrong\")\n",
    "elif 3 == 3:\n",
    "    print(\"that's right\")\n",
    "else:\n",
    "    print(\"ok\")"
   ]
  },
  {
   "cell_type": "markdown",
   "metadata": {},
   "source": [
    "#### For Loops"
   ]
  },
  {
   "cell_type": "code",
   "execution_count": 12,
   "metadata": {},
   "outputs": [
    {
     "name": "stdout",
     "output_type": "stream",
     "text": [
      "1\n",
      "2\n",
      "3\n",
      "4\n",
      "5\n",
      "--------------\n",
      "40\n",
      "36\n",
      "32\n",
      "28\n",
      "24\n",
      "20\n",
      "16\n",
      "12\n",
      "8\n",
      "4\n"
     ]
    }
   ],
   "source": [
    "#for loops\n",
    "seq_list = [1,2,3,4,5]\n",
    "for i in seq_list:\n",
    "    print(i)\n",
    "\n",
    "print(\"--------------\")\n",
    "seq_list2 = [10,9,8,7,6,5,4,3,2,1]\n",
    "for i in seq_list2:\n",
    "    print((i+i)*2)\n",
    "    \n"
   ]
  },
  {
   "cell_type": "markdown",
   "metadata": {},
   "source": [
    "#### While Loops"
   ]
  },
  {
   "cell_type": "code",
   "execution_count": 13,
   "metadata": {},
   "outputs": [
    {
     "name": "stdout",
     "output_type": "stream",
     "text": [
      "i is 1\n",
      "i is 2\n",
      "i is 3\n",
      "i is 4\n"
     ]
    }
   ],
   "source": [
    "i = 1\n",
    "#while condition is true, run print command\n",
    "while i < 5:\n",
    "    print(\"i is {}\". format(i))\n",
    "    i =i + 1"
   ]
  },
  {
   "cell_type": "markdown",
   "metadata": {},
   "source": [
    "#### Range Functions and List Comprehension"
   ]
  },
  {
   "cell_type": "code",
   "execution_count": 25,
   "metadata": {},
   "outputs": [
    {
     "name": "stdout",
     "output_type": "stream",
     "text": [
      "[1, 2, 3, 4, 5]\n",
      "[2, 3, 4]\n",
      "hi\n",
      "hi\n",
      "hi\n",
      "hi\n",
      "hi\n"
     ]
    }
   ],
   "source": [
    "#ranges\n",
    "v = [1,2,3,4,5,6,10,15,16]\n",
    "v2 = list(range(2,5))\n",
    "print(v[:5])\n",
    "print(v2)\n",
    "for x in range(5):\n",
    "    print('hi')\n"
   ]
  },
  {
   "cell_type": "code",
   "execution_count": 28,
   "metadata": {},
   "outputs": [
    {
     "name": "stdout",
     "output_type": "stream",
     "text": [
      "[1, 4, 9, 16, 25, 36]\n"
     ]
    },
    {
     "data": {
      "text/plain": [
       "[1, 4, 9, 16, 25, 36]"
      ]
     },
     "execution_count": 28,
     "metadata": {},
     "output_type": "execute_result"
    }
   ],
   "source": [
    "#list comprehension\n",
    "x0 = [1,2,3,4,5,6]\n",
    "out = []\n",
    "for num in x0:\n",
    "    out.append(num**2)\n",
    "\n",
    "print(out)\n",
    "\n",
    "[num**2 for num in x0]"
   ]
  },
  {
   "cell_type": "markdown",
   "metadata": {},
   "source": [
    "#### Functions"
   ]
  },
  {
   "cell_type": "code",
   "execution_count": 33,
   "metadata": {},
   "outputs": [
    {
     "name": "stdout",
     "output_type": "stream",
     "text": [
      "test hello good morning\n",
      "10000\n"
     ]
    }
   ],
   "source": [
    "def my_func(greeting):\n",
    "    print(\"test hello\"+ greeting)\n",
    "my_func(' good morning')\n",
    "\n",
    "def square(x):\n",
    "    return x**2\n",
    "\n",
    "result = square(100)\n",
    "print(result)\n"
   ]
  }
 ],
 "metadata": {
  "kernelspec": {
   "display_name": "Python 3",
   "language": "python",
   "name": "python3"
  },
  "language_info": {
   "codemirror_mode": {
    "name": "ipython",
    "version": 3
   },
   "file_extension": ".py",
   "mimetype": "text/x-python",
   "name": "python",
   "nbconvert_exporter": "python",
   "pygments_lexer": "ipython3",
   "version": "3.11.3"
  }
 },
 "nbformat": 4,
 "nbformat_minor": 2
}
